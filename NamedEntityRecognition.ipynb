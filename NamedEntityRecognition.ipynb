{
 "cells": [
  {
   "cell_type": "code",
   "execution_count": 1,
   "id": "7955f1bf-28b6-40fb-a53c-d33adb32650f",
   "metadata": {},
   "outputs": [
    {
     "name": "stdout",
     "output_type": "stream",
     "text": [
      "Requirement already satisfied: transformers==4.36.2 in c:\\users\\pedro\\appdata\\local\\anaconda3\\envs\\deep_learning_py\\lib\\site-packages (4.36.2)\n",
      "Requirement already satisfied: filelock in c:\\users\\pedro\\appdata\\local\\anaconda3\\envs\\deep_learning_py\\lib\\site-packages (from transformers==4.36.2) (3.13.1)\n",
      "Requirement already satisfied: huggingface-hub<1.0,>=0.19.3 in c:\\users\\pedro\\appdata\\local\\anaconda3\\envs\\deep_learning_py\\lib\\site-packages (from transformers==4.36.2) (0.20.3)\n",
      "Requirement already satisfied: numpy>=1.17 in c:\\users\\pedro\\appdata\\local\\anaconda3\\envs\\deep_learning_py\\lib\\site-packages (from transformers==4.36.2) (1.26.3)\n",
      "Requirement already satisfied: packaging>=20.0 in c:\\users\\pedro\\appdata\\local\\anaconda3\\envs\\deep_learning_py\\lib\\site-packages (from transformers==4.36.2) (23.1)\n",
      "Requirement already satisfied: pyyaml>=5.1 in c:\\users\\pedro\\appdata\\local\\anaconda3\\envs\\deep_learning_py\\lib\\site-packages (from transformers==4.36.2) (6.0.1)\n",
      "Requirement already satisfied: regex!=2019.12.17 in c:\\users\\pedro\\appdata\\local\\anaconda3\\envs\\deep_learning_py\\lib\\site-packages (from transformers==4.36.2) (2023.12.25)\n",
      "Requirement already satisfied: requests in c:\\users\\pedro\\appdata\\local\\anaconda3\\envs\\deep_learning_py\\lib\\site-packages (from transformers==4.36.2) (2.31.0)\n",
      "Requirement already satisfied: tokenizers<0.19,>=0.14 in c:\\users\\pedro\\appdata\\local\\anaconda3\\envs\\deep_learning_py\\lib\\site-packages (from transformers==4.36.2) (0.15.2)\n",
      "Requirement already satisfied: safetensors>=0.3.1 in c:\\users\\pedro\\appdata\\local\\anaconda3\\envs\\deep_learning_py\\lib\\site-packages (from transformers==4.36.2) (0.4.2)\n",
      "Requirement already satisfied: tqdm>=4.27 in c:\\users\\pedro\\appdata\\local\\anaconda3\\envs\\deep_learning_py\\lib\\site-packages (from transformers==4.36.2) (4.66.2)\n",
      "Requirement already satisfied: fsspec>=2023.5.0 in c:\\users\\pedro\\appdata\\local\\anaconda3\\envs\\deep_learning_py\\lib\\site-packages (from huggingface-hub<1.0,>=0.19.3->transformers==4.36.2) (2024.2.0)\n",
      "Requirement already satisfied: typing-extensions>=3.7.4.3 in c:\\users\\pedro\\appdata\\local\\anaconda3\\envs\\deep_learning_py\\lib\\site-packages (from huggingface-hub<1.0,>=0.19.3->transformers==4.36.2) (4.9.0)\n",
      "Requirement already satisfied: colorama in c:\\users\\pedro\\appdata\\local\\anaconda3\\envs\\deep_learning_py\\lib\\site-packages (from tqdm>=4.27->transformers==4.36.2) (0.4.6)\n",
      "Requirement already satisfied: charset-normalizer<4,>=2 in c:\\users\\pedro\\appdata\\local\\anaconda3\\envs\\deep_learning_py\\lib\\site-packages (from requests->transformers==4.36.2) (2.0.4)\n",
      "Requirement already satisfied: idna<4,>=2.5 in c:\\users\\pedro\\appdata\\local\\anaconda3\\envs\\deep_learning_py\\lib\\site-packages (from requests->transformers==4.36.2) (3.4)\n",
      "Requirement already satisfied: urllib3<3,>=1.21.1 in c:\\users\\pedro\\appdata\\local\\anaconda3\\envs\\deep_learning_py\\lib\\site-packages (from requests->transformers==4.36.2) (2.1.0)\n",
      "Requirement already satisfied: certifi>=2017.4.17 in c:\\users\\pedro\\appdata\\local\\anaconda3\\envs\\deep_learning_py\\lib\\site-packages (from requests->transformers==4.36.2) (2024.2.2)\n"
     ]
    }
   ],
   "source": [
    "!pip install transformers==4.36.2"
   ]
  },
  {
   "cell_type": "code",
   "execution_count": null,
   "id": "41cf0a0b-7c92-4865-be0a-b7271b5754fc",
   "metadata": {},
   "outputs": [],
   "source": [
    "from transformers import AutoTokenizer, AutoModelForTokenClassification\n",
    "from transformers import pipeline"
   ]
  },
  {
   "cell_type": "code",
   "execution_count": 5,
   "id": "32622439-6bbd-4d3a-9d3e-28054b30e4f8",
   "metadata": {},
   "outputs": [],
   "source": [
    "tokenizer = AutoTokenizer.from_pretrained('Davlan/distilbert-base-multilingual-cased-ner-hrl')\n",
    "model = AutoModelForTokenClassification.from_pretrained('Davlan/distilbert-base-multilingual-cased-ner-hrl')"
   ]
  },
  {
   "cell_type": "code",
   "execution_count": 6,
   "id": "565b882a-eb5e-4c24-8023-211666171c80",
   "metadata": {},
   "outputs": [],
   "source": [
    "def ner(text):\n",
    "    ner_pipeline = pipeline('ner', model=model, tokenizer=tokenizer)\n",
    "    output=ner_pipeline(text)\n",
    "    return {'text':text, 'entities':output}"
   ]
  },
  {
   "cell_type": "code",
   "execution_count": 7,
   "id": "54eea903-e401-4481-a42c-56be74649f00",
   "metadata": {},
   "outputs": [
    {
     "data": {
      "text/plain": [
       "{'text': 'Estuve en Madrid con Pepe el Lunes pasado',\n",
       " 'entities': [{'entity': 'B-LOC',\n",
       "   'score': 0.99969983,\n",
       "   'index': 4,\n",
       "   'word': 'Madrid',\n",
       "   'start': 10,\n",
       "   'end': 16},\n",
       "  {'entity': 'B-PER',\n",
       "   'score': 0.99984443,\n",
       "   'index': 6,\n",
       "   'word': 'Pepe',\n",
       "   'start': 21,\n",
       "   'end': 25},\n",
       "  {'entity': 'I-PER',\n",
       "   'score': 0.9987143,\n",
       "   'index': 7,\n",
       "   'word': 'el',\n",
       "   'start': 26,\n",
       "   'end': 28},\n",
       "  {'entity': 'I-PER',\n",
       "   'score': 0.9986885,\n",
       "   'index': 8,\n",
       "   'word': 'Lune',\n",
       "   'start': 29,\n",
       "   'end': 33},\n",
       "  {'entity': 'I-PER',\n",
       "   'score': 0.90853745,\n",
       "   'index': 9,\n",
       "   'word': '##s',\n",
       "   'start': 33,\n",
       "   'end': 34}]}"
      ]
     },
     "execution_count": 7,
     "metadata": {},
     "output_type": "execute_result"
    }
   ],
   "source": [
    "ner('Estuve en Madrid con Pepe el Lunes pasado')"
   ]
  }
 ],
 "metadata": {
  "kernelspec": {
   "display_name": "Python 3 (ipykernel)",
   "language": "python",
   "name": "python3"
  },
  "language_info": {
   "codemirror_mode": {
    "name": "ipython",
    "version": 3
   },
   "file_extension": ".py",
   "mimetype": "text/x-python",
   "name": "python",
   "nbconvert_exporter": "python",
   "pygments_lexer": "ipython3",
   "version": "3.12.1"
  }
 },
 "nbformat": 4,
 "nbformat_minor": 5
}
