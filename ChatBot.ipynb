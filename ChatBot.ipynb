{
  "nbformat": 4,
  "nbformat_minor": 0,
  "metadata": {
    "colab": {
      "provenance": []
    },
    "kernelspec": {
      "name": "python3",
      "display_name": "Python 3"
    },
    "language_info": {
      "name": "python"
    }
  },
  "cells": [
    {
      "cell_type": "code",
      "execution_count": null,
      "metadata": {
        "id": "xVoRZ3vES_bi"
      },
      "outputs": [],
      "source": [
        "!pip install gradio==4.14.0\n",
        "!pip install openai==1.7.2\n",
        "import random\n",
        "import gradio as gr"
      ]
    },
    {
      "cell_type": "code",
      "source": [
        "from openai import OpenAI\n",
        "from google.colab import userdata\n",
        "import gradio as gr\n",
        "\n",
        "client = OpenAI(api_key = userdata.get('OPENAI_KEY'))\n",
        "\n",
        "behaviour_prompt = \"Eres un profesor de programación. Respondes con energía y ganas de que tus alumnos aprendan. Si te preguntan por algo ajeno a esta materia, intentas reorientar la conversación a tu materia\"\n",
        "\n",
        "def predict(message, history):\n",
        "  history_openai_format = [{\"role\":'system', 'content':behaviour_prompt}]\n",
        "\n",
        "  for human, assistant in history:\n",
        "    history_openai_format.append({\"role\": \"user\", \"content\": human })\n",
        "    history_openai_format.append({\"role\": \"assistant\", \"content\":assistant})\n",
        "\n",
        "  history_openai_format.append({\"role\": \"user\", \"content\": message})\n",
        "\n",
        "\n",
        "  response = client.chat.completions.create(\n",
        "              model='gpt-3.5-turbo',\n",
        "              messages=history_openai_format,\n",
        "              temperature=1.0,\n",
        "              stream=True)\n",
        "\n",
        "  partial_message= ''\n",
        "  for chunk in response:\n",
        "    if chunk.choices[0].delta.content is not None:\n",
        "      partial_message = partial_message + chunk.choices[0].delta.content\n",
        "      yield partial_message\n",
        "\n",
        "custom_css='footer {visibility: hidden}'\n",
        "\n",
        "def check_auth(username, password):\n",
        "  return password=='pass1234'\n",
        "\n",
        "gr.ChatInterface(fn=predict,\n",
        "                 title='GPT Owesomico',\n",
        "                 theme=gr.themes.Soft(),\n",
        "                 stop_btn=None,\n",
        "                 retry_btn=None,\n",
        "                 undo_btn=None,\n",
        "                 clear_btn=None,\n",
        "                 css=custom_css).queue().launch(debug=True, auth=check_auth)\n"
      ],
      "metadata": {
        "id": "P4twTzU9TWFP"
      },
      "execution_count": null,
      "outputs": []
    }
  ]
}